{
 "cells": [
  {
   "cell_type": "code",
   "execution_count": 1,
   "metadata": {},
   "outputs": [],
   "source": [
    "import torch\n",
    "from torch.utils.data import DataLoader\n",
    "from transformers import BertForSequenceClassification, BertTokenizer, AdamW, get_linear_schedule_with_warmup\n",
    "from sklearn.metrics import accuracy_score, recall_score, precision_score, f1_score, roc_auc_score\n",
    "import pandas as pd\n",
    "import numpy as np\n",
    "from transformers import AutoTokenizer, AutoModelForSequenceClassification, Trainer, TrainingArguments"
   ]
  },
  {
   "cell_type": "code",
   "execution_count": 2,
   "metadata": {},
   "outputs": [],
   "source": [
    "# Load Train, Validation, Test Dataset\n",
    "train_dataset = pd.read_csv('saveDir/MP_IN_adm_train.csv')\n",
    "val_dataset = pd.read_csv('saveDir//MP_IN_adm_val.csv')\n",
    "test_dataset = pd.read_csv('saveDir/MP_IN_adm_test.csv')"
   ]
  },
  {
   "cell_type": "code",
   "execution_count": 3,
   "metadata": {},
   "outputs": [],
   "source": [
    "from torch.utils.data import DataLoader\n",
    "from torch import nn\n",
    "\n",
    "class EnsembleModel(nn.Module):\n",
    "    def __init__(self, model1):\n",
    "        super(EnsembleModel, self).__init__()\n",
    "        self.model1 = model1\n",
    "\n",
    "    def forward(self, input_ids, attention_mask):\n",
    "        output1 = self.model1(input_ids, attention_mask=attention_mask)[0]\n",
    "        avg_output = output1\n",
    "        return avg_output"
   ]
  },
  {
   "cell_type": "code",
   "execution_count": 4,
   "metadata": {},
   "outputs": [],
   "source": [
    "# from transformers import AutoModelForSequenceClassification, AutoConfig\n",
    "\n",
    "# # Specify the dropout rate in the configuration\n",
    "# config = AutoConfig.from_pretrained('bvanaken/CORe-clinical-outcome-biobert-v1', \n",
    "#                                     num_labels=2, \n",
    "#                                     hidden_dropout_prob=0.2, \n",
    "#                                     attention_probs_dropout_prob=0.2)\n",
    "\n",
    "# # Load the pre-trained model with the specified configuration\n",
    "# core_model = AutoModelForSequenceClassification.from_pretrained('bvanaken/CORe-clinical-outcome-biobert-v1', config=config)\n"
   ]
  },
  {
   "cell_type": "code",
   "execution_count": 5,
   "metadata": {},
   "outputs": [],
   "source": [
    "# from transformers import AutoModelForSequenceClassification, AutoConfig\n",
    "\n",
    "# # Specify the dropout rate in the configuration\n",
    "# config = AutoConfig.from_pretrained('emilyalsentzer/Bio_ClinicalBERT', \n",
    "#                                     num_labels=4, \n",
    "#                                     hidden_dropout_prob=0.2, \n",
    "#                                     attention_probs_dropout_prob=0.2)\n",
    "\n",
    "# # Load the pre-trained model with the specified configuration\n",
    "# clinical_model = AutoModelForSequenceClassification.from_pretrained('emilyalsentzer/Bio_ClinicalBERT', config=config)"
   ]
  },
  {
   "cell_type": "code",
   "execution_count": 6,
   "metadata": {},
   "outputs": [],
   "source": [
    "# from transformers import AutoModelForSequenceClassification, AutoConfig\n",
    "\n",
    "# # Specify the dropout rate in the configuration\n",
    "# config = AutoConfig.from_pretrained('dmis-lab/biobert-base-cased-v1.2', \n",
    "#                                     num_labels=4, \n",
    "#                                     hidden_dropout_prob=0.2, \n",
    "#                                     attention_probs_dropout_prob=0.2)\n",
    "\n",
    "# # Load the pre-trained model with the specified configuration\n",
    "# base_model = AutoModelForSequenceClassification.from_pretrained('dmis-lab/biobert-base-cased-v1.2', config=config)"
   ]
  },
  {
   "cell_type": "code",
   "execution_count": 7,
   "metadata": {},
   "outputs": [
    {
     "name": "stderr",
     "output_type": "stream",
     "text": [
      "Some weights of the model checkpoint at emilyalsentzer/Bio_Discharge_Summary_BERT were not used when initializing BertForSequenceClassification: ['cls.predictions.bias', 'cls.predictions.transform.LayerNorm.bias', 'cls.predictions.transform.dense.weight', 'cls.predictions.transform.dense.bias', 'cls.seq_relationship.weight', 'cls.seq_relationship.bias', 'cls.predictions.decoder.weight', 'cls.predictions.transform.LayerNorm.weight']\n",
      "- This IS expected if you are initializing BertForSequenceClassification from the checkpoint of a model trained on another task or with another architecture (e.g. initializing a BertForSequenceClassification model from a BertForPreTraining model).\n",
      "- This IS NOT expected if you are initializing BertForSequenceClassification from the checkpoint of a model that you expect to be exactly identical (initializing a BertForSequenceClassification model from a BertForSequenceClassification model).\n",
      "Some weights of BertForSequenceClassification were not initialized from the model checkpoint at emilyalsentzer/Bio_Discharge_Summary_BERT and are newly initialized: ['classifier.weight', 'classifier.bias']\n",
      "You should probably TRAIN this model on a down-stream task to be able to use it for predictions and inference.\n"
     ]
    }
   ],
   "source": [
    "from transformers import AutoModelForSequenceClassification, AutoConfig\n",
    "\n",
    "# Specify the dropout rate in the configuration\n",
    "config = AutoConfig.from_pretrained('emilyalsentzer/Bio_Discharge_Summary_BERT', \n",
    "                                    num_labels=2, \n",
    "                                    hidden_dropout_prob=0.2, \n",
    "                                    attention_probs_dropout_prob=0.2)\n",
    "\n",
    "# Load the pre-trained model with the specified configuration\n",
    "discharge_model = AutoModelForSequenceClassification.from_pretrained('emilyalsentzer/Bio_Discharge_Summary_BERT', config=config)"
   ]
  },
  {
   "cell_type": "code",
   "execution_count": 8,
   "metadata": {},
   "outputs": [],
   "source": [
    "from transformers import AutoTokenizer\n",
    "\n",
    "# Choose a tokenizer\n",
    "tokenizer = AutoTokenizer.from_pretrained('emilyalsentzer/Bio_Discharge_Summary_BERT')"
   ]
  },
  {
   "cell_type": "code",
   "execution_count": 9,
   "metadata": {},
   "outputs": [],
   "source": [
    "# Apply the tokenizer to the training, validation, and test datasets\n",
    "train_encodings = tokenizer(train_dataset['text'].tolist(), truncation=True, padding=True, max_length = 512)\n",
    "val_encodings = tokenizer(val_dataset['text'].tolist(), truncation=True, padding=True,  max_length = 512)\n",
    "test_encodings = tokenizer(test_dataset['text'].tolist(), truncation=True, padding=True , max_length = 512)"
   ]
  },
  {
   "cell_type": "code",
   "execution_count": 10,
   "metadata": {},
   "outputs": [],
   "source": [
    "# Create a Dataset for PyTorch\n",
    "class LosDataset(torch.utils.data.Dataset):\n",
    "    def __init__(self, encodings, labels):\n",
    "        self.encodings = encodings\n",
    "        self.labels = labels\n",
    "\n",
    "    def __getitem__(self, idx):\n",
    "        item = {key: torch.tensor(val[idx]) for key, val in self.encodings.items()}\n",
    "        item['labels'] = torch.tensor(self.labels[idx])\n",
    "        return item\n",
    "\n",
    "    def __len__(self):\n",
    "        return len(self.labels)"
   ]
  },
  {
   "cell_type": "code",
   "execution_count": 11,
   "metadata": {},
   "outputs": [],
   "source": [
    "train_dataset = LosDataset(train_encodings, train_dataset['hospital_expire_flag'].tolist())\n",
    "val_dataset = LosDataset(val_encodings, val_dataset['hospital_expire_flag'].tolist())\n",
    "test_dataset = LosDataset(test_encodings, test_dataset['hospital_expire_flag'].tolist())"
   ]
  },
  {
   "cell_type": "code",
   "execution_count": 12,
   "metadata": {},
   "outputs": [],
   "source": [
    "from transformers import AdamW, get_linear_schedule_with_warmup\n",
    "from sklearn.metrics import precision_score, recall_score, f1_score, roc_auc_score, accuracy_score\n",
    "from tqdm import tqdm\n",
    "from torch import nn\n",
    "import numpy as np\n",
    "\n",
    "# Create the ensemble model\n",
    "ensemble_model = EnsembleModel(discharge_model)"
   ]
  },
  {
   "cell_type": "code",
   "execution_count": 13,
   "metadata": {},
   "outputs": [
    {
     "name": "stdout",
     "output_type": "stream",
     "text": [
      "No models found starting with 'dischargeBERT_baseline_MP'.\n"
     ]
    }
   ],
   "source": [
    "import os\n",
    "\n",
    "# list all files in the current directory\n",
    "files = os.listdir('.')\n",
    "\n",
    "# filter the ones that start with 'CORE_baseline'\n",
    "core_models = [f for f in files if f.startswith('dischargeBERT_baseline_MP')]\n",
    "\n",
    "if core_models:\n",
    "    print(\"Found models starting with 'dischargeBERT_baseline_MP':\")\n",
    "    for model in core_models:\n",
    "        print(model)\n",
    "        \n",
    "    # get the first (and supposedly only) model\n",
    "    model_path = core_models[0]\n",
    "\n",
    "    # load the model state\n",
    "    ensemble_model.load_state_dict(torch.load(model_path))\n",
    "    print(\"Loaded Model\")\n",
    "else:\n",
    "    print(\"No models found starting with 'dischargeBERT_baseline_MP'.\")"
   ]
  },
  {
   "cell_type": "code",
   "execution_count": 14,
   "metadata": {},
   "outputs": [],
   "source": [
    "# ensemble_model"
   ]
  },
  {
   "cell_type": "code",
   "execution_count": 15,
   "metadata": {},
   "outputs": [],
   "source": [
    "# Push the model to device\n",
    "device = torch.device(\"cuda\" if torch.cuda.is_available() else \"cpu\")\n",
    "ensemble_model = ensemble_model.to(device)"
   ]
  },
  {
   "cell_type": "code",
   "execution_count": 16,
   "metadata": {},
   "outputs": [
    {
     "data": {
      "text/plain": [
       "EnsembleModel(\n",
       "  (model1): BertForSequenceClassification(\n",
       "    (bert): BertModel(\n",
       "      (embeddings): BertEmbeddings(\n",
       "        (word_embeddings): Embedding(28996, 768, padding_idx=0)\n",
       "        (position_embeddings): Embedding(512, 768)\n",
       "        (token_type_embeddings): Embedding(2, 768)\n",
       "        (LayerNorm): LayerNorm((768,), eps=1e-12, elementwise_affine=True)\n",
       "        (dropout): Dropout(p=0.2, inplace=False)\n",
       "      )\n",
       "      (encoder): BertEncoder(\n",
       "        (layer): ModuleList(\n",
       "          (0-11): 12 x BertLayer(\n",
       "            (attention): BertAttention(\n",
       "              (self): BertSelfAttention(\n",
       "                (query): Linear(in_features=768, out_features=768, bias=True)\n",
       "                (key): Linear(in_features=768, out_features=768, bias=True)\n",
       "                (value): Linear(in_features=768, out_features=768, bias=True)\n",
       "                (dropout): Dropout(p=0.2, inplace=False)\n",
       "              )\n",
       "              (output): BertSelfOutput(\n",
       "                (dense): Linear(in_features=768, out_features=768, bias=True)\n",
       "                (LayerNorm): LayerNorm((768,), eps=1e-12, elementwise_affine=True)\n",
       "                (dropout): Dropout(p=0.2, inplace=False)\n",
       "              )\n",
       "            )\n",
       "            (intermediate): BertIntermediate(\n",
       "              (dense): Linear(in_features=768, out_features=3072, bias=True)\n",
       "              (intermediate_act_fn): GELUActivation()\n",
       "            )\n",
       "            (output): BertOutput(\n",
       "              (dense): Linear(in_features=3072, out_features=768, bias=True)\n",
       "              (LayerNorm): LayerNorm((768,), eps=1e-12, elementwise_affine=True)\n",
       "              (dropout): Dropout(p=0.2, inplace=False)\n",
       "            )\n",
       "          )\n",
       "        )\n",
       "      )\n",
       "      (pooler): BertPooler(\n",
       "        (dense): Linear(in_features=768, out_features=768, bias=True)\n",
       "        (activation): Tanh()\n",
       "      )\n",
       "    )\n",
       "    (dropout): Dropout(p=0.2, inplace=False)\n",
       "    (classifier): Linear(in_features=768, out_features=2, bias=True)\n",
       "  )\n",
       ")"
      ]
     },
     "execution_count": 16,
     "metadata": {},
     "output_type": "execute_result"
    }
   ],
   "source": [
    "ensemble_model"
   ]
  },
  {
   "cell_type": "code",
   "execution_count": 17,
   "metadata": {},
   "outputs": [],
   "source": [
    "train_loader = DataLoader(train_dataset, batch_size=18, shuffle=True)\n",
    "val_loader = DataLoader(val_dataset, batch_size=18, shuffle=False)\n",
    "test_loader = DataLoader(test_dataset, batch_size=18, shuffle=False)"
   ]
  },
  {
   "cell_type": "code",
   "execution_count": 18,
   "metadata": {},
   "outputs": [
    {
     "name": "stderr",
     "output_type": "stream",
     "text": [
      "/home/ec2-user/anaconda3/envs/new_env/lib/python3.9/site-packages/transformers/optimization.py:391: FutureWarning: This implementation of AdamW is deprecated and will be removed in a future version. Use the PyTorch implementation torch.optim.AdamW instead, or set `no_deprecation_warning=True` to disable this warning\n",
      "  warnings.warn(\n"
     ]
    }
   ],
   "source": [
    "epochs = 200\n",
    "best_roc_auc = 0.0\n",
    "min_delta = 0.0001\n",
    "early_stopping_count = 0\n",
    "early_stopping_patience = 3\n",
    "gradient_accumulation_steps = 10\n",
    "best_model_path = \"best_model.pth\"\n",
    "\n",
    "# Set the optimizer\n",
    "optimizer = AdamW(ensemble_model.parameters(), lr=1e-5, weight_decay=0.01)\n",
    "\n",
    "# Set the scheduler\n",
    "scheduler = get_linear_schedule_with_warmup(\n",
    "    optimizer, \n",
    "    num_warmup_steps=50, \n",
    "    num_training_steps=len(train_loader) * epochs // gradient_accumulation_steps\n",
    ")\n"
   ]
  },
  {
   "cell_type": "code",
   "execution_count": 19,
   "metadata": {},
   "outputs": [
    {
     "name": "stderr",
     "output_type": "stream",
     "text": [
      "100%|███████████████████████████████████████| 1887/1887 [48:06<00:00,  1.53s/it]\n",
      "100%|█████████████████████████████████████████| 273/273 [02:31<00:00,  1.81it/s]\n",
      "/home/ec2-user/anaconda3/envs/new_env/lib/python3.9/site-packages/sklearn/metrics/_classification.py:1344: UndefinedMetricWarning: Precision is ill-defined and being set to 0.0 due to no predicted samples. Use `zero_division` parameter to control this behavior.\n",
      "  _warn_prf(average, modifier, msg_start, len(result))\n"
     ]
    },
    {
     "name": "stdout",
     "output_type": "stream",
     "text": [
      "Epoch: 1/200, Training Loss: 0.396751278601725, Validation Loss: 0.31106844738180384\n",
      "Accuracy: 0.8944580277098615, Recall: 0.0, Precision: 0.0, F1: 0.0, Roc Auc: 0.7284359856113842\n"
     ]
    },
    {
     "name": "stderr",
     "output_type": "stream",
     "text": [
      "100%|███████████████████████████████████████| 1887/1887 [49:07<00:00,  1.56s/it]\n",
      "100%|█████████████████████████████████████████| 273/273 [02:23<00:00,  1.91it/s]\n"
     ]
    },
    {
     "name": "stdout",
     "output_type": "stream",
     "text": [
      "Epoch: 2/200, Training Loss: 0.2997717807325078, Validation Loss: 0.2826296675936643\n",
      "Accuracy: 0.8952730236348818, Recall: 0.009652509652509652, Precision: 0.8333333333333334, F1: 0.019083969465648856, Roc Auc: 0.7928382336127211\n"
     ]
    },
    {
     "name": "stderr",
     "output_type": "stream",
     "text": [
      "100%|███████████████████████████████████████| 1887/1887 [48:06<00:00,  1.53s/it]\n",
      "100%|█████████████████████████████████████████| 273/273 [02:19<00:00,  1.96it/s]\n"
     ]
    },
    {
     "name": "stdout",
     "output_type": "stream",
     "text": [
      "Epoch: 3/200, Training Loss: 0.2765470309687406, Validation Loss: 0.28275069029449107\n",
      "Accuracy: 0.8948655256723717, Recall: 0.011583011583011582, Precision: 0.6, F1: 0.022727272727272728, Roc Auc: 0.8047101608605024\n"
     ]
    },
    {
     "name": "stderr",
     "output_type": "stream",
     "text": [
      "100%|███████████████████████████████████████| 1887/1887 [48:45<00:00,  1.55s/it]\n",
      "100%|█████████████████████████████████████████| 273/273 [02:30<00:00,  1.81it/s]\n"
     ]
    },
    {
     "name": "stdout",
     "output_type": "stream",
     "text": [
      "Epoch: 4/200, Training Loss: 0.26415910844942314, Validation Loss: 0.2668039197095366\n",
      "Accuracy: 0.9024042379788101, Recall: 0.11969111969111969, Precision: 0.7294117647058823, F1: 0.2056384742951907, Roc Auc: 0.8218322618094827\n"
     ]
    },
    {
     "name": "stderr",
     "output_type": "stream",
     "text": [
      "100%|███████████████████████████████████████| 1887/1887 [47:54<00:00,  1.52s/it]\n",
      "100%|█████████████████████████████████████████| 273/273 [02:32<00:00,  1.79it/s]\n"
     ]
    },
    {
     "name": "stdout",
     "output_type": "stream",
     "text": [
      "Epoch: 5/200, Training Loss: 0.24949530344979592, Validation Loss: 0.2825775848694773\n",
      "Accuracy: 0.8983292583537082, Recall: 0.06177606177606178, Precision: 0.7111111111111111, F1: 0.11367673179396094, Roc Auc: 0.8080887591138161\n",
      "EarlyStopping counter: 1 out of 3\n"
     ]
    },
    {
     "name": "stderr",
     "output_type": "stream",
     "text": [
      "100%|███████████████████████████████████████| 1887/1887 [49:08<00:00,  1.56s/it]\n",
      "100%|█████████████████████████████████████████| 273/273 [02:27<00:00,  1.85it/s]\n"
     ]
    },
    {
     "name": "stdout",
     "output_type": "stream",
     "text": [
      "Epoch: 6/200, Training Loss: 0.240292847118028, Validation Loss: 0.2694242456075036\n",
      "Accuracy: 0.8958842705786471, Recall: 0.15057915057915058, Precision: 0.5234899328859061, F1: 0.23388305847076463, Roc Auc: 0.8217117703450277\n",
      "EarlyStopping counter: 2 out of 3\n"
     ]
    },
    {
     "name": "stderr",
     "output_type": "stream",
     "text": [
      "100%|███████████████████████████████████████| 1887/1887 [49:11<00:00,  1.56s/it]\n",
      "100%|█████████████████████████████████████████| 273/273 [02:30<00:00,  1.81it/s]"
     ]
    },
    {
     "name": "stdout",
     "output_type": "stream",
     "text": [
      "Epoch: 7/200, Training Loss: 0.2273766891107903, Validation Loss: 0.2740183278317853\n",
      "Accuracy: 0.8995517522412388, Recall: 0.10617760617760617, Precision: 0.6470588235294118, F1: 0.18242122719734657, Roc Auc: 0.8155455976640487\n",
      "EarlyStopping counter: 3 out of 3\n",
      "Early stopping\n"
     ]
    },
    {
     "name": "stderr",
     "output_type": "stream",
     "text": [
      "\n"
     ]
    }
   ],
   "source": [
    "from torch.nn import functional as F\n",
    "from sklearn.metrics import accuracy_score, precision_score, recall_score, f1_score, roc_auc_score\n",
    "\n",
    "# Training\n",
    "for epoch in range(epochs):\n",
    "    ensemble_model.train()\n",
    "    train_loss = 0\n",
    "    for step, batch in enumerate(tqdm(train_loader)):\n",
    "        optimizer.zero_grad() if step % gradient_accumulation_steps == 0 else None\n",
    "        input_ids = batch['input_ids'].to(device)\n",
    "        attention_mask = batch['attention_mask'].to(device)\n",
    "        labels = batch['labels'].to(device)\n",
    "        outputs = ensemble_model(input_ids, attention_mask)\n",
    "        loss = nn.CrossEntropyLoss()(outputs, labels)\n",
    "        (loss / gradient_accumulation_steps).backward()\n",
    "        train_loss += loss.item()\n",
    "        if (step + 1) % gradient_accumulation_steps == 0 or (step + 1) == len(train_loader):\n",
    "            optimizer.step()\n",
    "            scheduler.step()\n",
    "\n",
    "    ensemble_model.eval()\n",
    "    val_loss = 0\n",
    "    val_preds = []\n",
    "    val_labels = []\n",
    "    with torch.no_grad():\n",
    "        for batch in tqdm(val_loader):\n",
    "            input_ids = batch['input_ids'].to(device)\n",
    "            attention_mask = batch['attention_mask'].to(device)\n",
    "            labels = batch['labels'].to(device)\n",
    "            outputs = ensemble_model(input_ids, attention_mask)\n",
    "            loss = nn.CrossEntropyLoss()(outputs, labels)\n",
    "            val_loss += loss.item()\n",
    "            val_preds.append(F.softmax(outputs, dim=1).cpu().numpy())\n",
    "            val_labels.append(labels.cpu().numpy())\n",
    "            \n",
    "    val_preds = np.concatenate(val_preds)\n",
    "    val_labels = np.concatenate(val_labels)\n",
    "    val_loss /= len(val_loader)\n",
    "    train_loss /= len(train_loader)\n",
    "    print(f'Epoch: {epoch+1}/{epochs}, Training Loss: {train_loss}, Validation Loss: {val_loss}')\n",
    "\n",
    "    # Calculate metrics\n",
    "    val_preds_class = np.argmax(val_preds, axis=1)\n",
    "    accuracy = accuracy_score(val_labels, val_preds_class)\n",
    "    recall = recall_score(val_labels, val_preds_class)\n",
    "    precision = precision_score(val_labels, val_preds_class)\n",
    "    f1 = f1_score(val_labels, val_preds_class)\n",
    "    roc_auc = roc_auc_score(val_labels, val_preds[:, 1])\n",
    "\n",
    "    print(f'Accuracy: {accuracy}, Recall: {recall}, Precision: {precision}, F1: {f1}, Roc Auc: {roc_auc}')\n",
    "\n",
    "    # Implement early stopping\n",
    "    if epoch > 0 and roc_auc - best_roc_auc < min_delta:\n",
    "        early_stopping_count += 1\n",
    "        print(f'EarlyStopping counter: {early_stopping_count} out of {early_stopping_patience}')\n",
    "        if early_stopping_count >= early_stopping_patience:\n",
    "            print('Early stopping')\n",
    "            break\n",
    "    else:\n",
    "        best_roc_auc = roc_auc\n",
    "        early_stopping_count = 0\n",
    "        torch.save(ensemble_model.state_dict(), f\"dischargeBERT_baseline_MP_epoch_{epoch}roc_{best_roc_auc}.pth\")\n"
   ]
  },
  {
   "cell_type": "code",
   "execution_count": 20,
   "metadata": {},
   "outputs": [
    {
     "name": "stdout",
     "output_type": "stream",
     "text": [
      "Found models starting with 'dischargeBERT_baseline_MP':\n",
      "dischargeBERT_baseline_MP_epoch_3roc_0.8218322618094827.pth\n",
      "Loaded Model\n"
     ]
    }
   ],
   "source": [
    "import os\n",
    "\n",
    "# list all files in the current directory\n",
    "files = os.listdir('.')\n",
    "\n",
    "# filter the ones that start with 'CORE_baseline'\n",
    "core_models = [f for f in files if f.startswith('dischargeBERT_baseline_MP')]\n",
    "\n",
    "if core_models:\n",
    "    print(\"Found models starting with 'dischargeBERT_baseline_MP':\")\n",
    "    for model in core_models:\n",
    "        print(model)\n",
    "        \n",
    "    # get the first (and supposedly only) model\n",
    "    model_path = core_models[0]\n",
    "\n",
    "    # load the model state\n",
    "    ensemble_model.load_state_dict(torch.load(model_path))\n",
    "    print(\"Loaded Model\")\n",
    "else:\n",
    "    print(\"No models found starting with 'dischargeBERT_baseline_MP'.\")"
   ]
  },
  {
   "cell_type": "code",
   "execution_count": 21,
   "metadata": {},
   "outputs": [
    {
     "name": "stderr",
     "output_type": "stream",
     "text": [
      "100%|█████████████████████████████████████████| 546/546 [05:05<00:00,  1.79it/s]\n"
     ]
    }
   ],
   "source": [
    "from torch.nn import functional as F\n",
    "from sklearn.metrics import accuracy_score, precision_score, recall_score, f1_score, roc_auc_score\n",
    "\n",
    "# Put the model in evaluation mode\n",
    "ensemble_model.eval()\n",
    "\n",
    "# Initialize lists to store predictions and true labels\n",
    "test_preds = []\n",
    "test_labels = []\n",
    "\n",
    "# Iterate over test data\n",
    "with torch.no_grad():\n",
    "    for batch in tqdm(test_loader):\n",
    "        input_ids = batch['input_ids'].to(device)\n",
    "        attention_mask = batch['attention_mask'].to(device)\n",
    "        labels = batch['labels'].to(device)\n",
    "        outputs = ensemble_model(input_ids, attention_mask)\n",
    "        test_preds.append(F.softmax(outputs, dim=1).cpu().numpy())\n",
    "        test_labels.append(labels.cpu().numpy())\n",
    "\n"
   ]
  },
  {
   "cell_type": "code",
   "execution_count": 22,
   "metadata": {},
   "outputs": [
    {
     "name": "stdout",
     "output_type": "stream",
     "text": [
      "Accuracy: 0.9027692934229281, Recall: 0.11317073170731708, Precision: 0.7160493827160493, F1: 0.1954507160909857, Roc Auc: 0.8232255452939887\n"
     ]
    }
   ],
   "source": [
    "test_preds = np.concatenate(test_preds)\n",
    "test_labels = np.concatenate(test_labels)\n",
    "\n",
    "# Calculate metrics\n",
    "test_preds_class = np.argmax(test_preds, axis=1)\n",
    "accuracy = accuracy_score(test_labels, test_preds_class)\n",
    "recall = recall_score(test_labels, test_preds_class)\n",
    "precision = precision_score(test_labels, test_preds_class)\n",
    "f1 = f1_score(test_labels, test_preds_class)\n",
    "roc_auc = roc_auc_score(test_labels, test_preds[:, 1])\n",
    "\n",
    "print(f'Accuracy: {accuracy}, Recall: {recall}, Precision: {precision}, F1: {f1}, Roc Auc: {roc_auc}')\n"
   ]
  },
  {
   "cell_type": "code",
   "execution_count": null,
   "metadata": {},
   "outputs": [],
   "source": []
  }
 ],
 "metadata": {
  "kernelspec": {
   "display_name": "Environment (conda_new_env)",
   "language": "python",
   "name": "conda_new_env"
  },
  "language_info": {
   "codemirror_mode": {
    "name": "ipython",
    "version": 3
   },
   "file_extension": ".py",
   "mimetype": "text/x-python",
   "name": "python",
   "nbconvert_exporter": "python",
   "pygments_lexer": "ipython3",
   "version": "3.9.16"
  }
 },
 "nbformat": 4,
 "nbformat_minor": 4
}
