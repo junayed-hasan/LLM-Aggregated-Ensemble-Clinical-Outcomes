{
 "cells": [
  {
   "cell_type": "code",
   "execution_count": 1,
   "metadata": {},
   "outputs": [
    {
     "name": "stderr",
     "output_type": "stream",
     "text": [
      "/home/ec2-user/anaconda3/envs/new_env/lib/python3.9/site-packages/tqdm/auto.py:21: TqdmWarning: IProgress not found. Please update jupyter and ipywidgets. See https://ipywidgets.readthedocs.io/en/stable/user_install.html\n",
      "  from .autonotebook import tqdm as notebook_tqdm\n"
     ]
    }
   ],
   "source": [
    "import torch\n",
    "from torch.utils.data import DataLoader\n",
    "from transformers import BertForSequenceClassification, BertTokenizer, AdamW, get_linear_schedule_with_warmup\n",
    "from sklearn.metrics import accuracy_score, recall_score, precision_score, f1_score, roc_auc_score\n",
    "import pandas as pd\n",
    "import numpy as np\n",
    "from transformers import AutoTokenizer, AutoModelForSequenceClassification, Trainer, TrainingArguments"
   ]
  },
  {
   "cell_type": "code",
   "execution_count": 2,
   "metadata": {},
   "outputs": [],
   "source": [
    "# Load Train, Validation, Test Dataset\n",
    "train_dataset = pd.read_csv('saveDir/LOS_WEEKS_adm_train.csv')\n",
    "val_dataset = pd.read_csv('saveDir/LOS_WEEKS_adm_val.csv')\n",
    "test_dataset = pd.read_csv('saveDir/LOS_WEEKS_adm_test.csv')"
   ]
  },
  {
   "cell_type": "code",
   "execution_count": 3,
   "metadata": {},
   "outputs": [],
   "source": [
    "from torch.utils.data import DataLoader\n",
    "from torch import nn\n",
    "\n",
    "class EnsembleModel(nn.Module):\n",
    "    def __init__(self, model1):\n",
    "        super(EnsembleModel, self).__init__()\n",
    "        self.model1 = model1\n",
    "\n",
    "    def forward(self, input_ids, attention_mask):\n",
    "        output1 = self.model1(input_ids, attention_mask=attention_mask)[0]\n",
    "        avg_output = output1\n",
    "        return avg_output"
   ]
  },
  {
   "cell_type": "code",
   "execution_count": 4,
   "metadata": {},
   "outputs": [
    {
     "name": "stderr",
     "output_type": "stream",
     "text": [
      "Some weights of BertForSequenceClassification were not initialized from the model checkpoint at bvanaken/CORe-clinical-outcome-biobert-v1 and are newly initialized: ['classifier.bias', 'classifier.weight']\n",
      "You should probably TRAIN this model on a down-stream task to be able to use it for predictions and inference.\n"
     ]
    }
   ],
   "source": [
    "from transformers import AutoModelForSequenceClassification, AutoConfig\n",
    "\n",
    "# Specify the dropout rate in the configuration\n",
    "config = AutoConfig.from_pretrained('bvanaken/CORe-clinical-outcome-biobert-v1', \n",
    "                                    num_labels=4, \n",
    "                                    hidden_dropout_prob=0.2, \n",
    "                                    attention_probs_dropout_prob=0.2)\n",
    "\n",
    "# Load the pre-trained model with the specified configuration\n",
    "core_model = AutoModelForSequenceClassification.from_pretrained('bvanaken/CORe-clinical-outcome-biobert-v1', config=config)\n"
   ]
  },
  {
   "cell_type": "code",
   "execution_count": 5,
   "metadata": {},
   "outputs": [],
   "source": [
    "# from transformers import AutoModelForSequenceClassification, AutoConfig\n",
    "\n",
    "# # Specify the dropout rate in the configuration\n",
    "# config = AutoConfig.from_pretrained('emilyalsentzer/Bio_ClinicalBERT', \n",
    "#                                     num_labels=4, \n",
    "#                                     hidden_dropout_prob=0.2, \n",
    "#                                     attention_probs_dropout_prob=0.2)\n",
    "\n",
    "# # Load the pre-trained model with the specified configuration\n",
    "# clinical_model = AutoModelForSequenceClassification.from_pretrained('emilyalsentzer/Bio_ClinicalBERT', config=config)"
   ]
  },
  {
   "cell_type": "code",
   "execution_count": 6,
   "metadata": {},
   "outputs": [],
   "source": [
    "# from transformers import AutoModelForSequenceClassification, AutoConfig\n",
    "\n",
    "# # Specify the dropout rate in the configuration\n",
    "# config = AutoConfig.from_pretrained('dmis-lab/biobert-base-cased-v1.2', \n",
    "#                                     num_labels=4, \n",
    "#                                     hidden_dropout_prob=0.2, \n",
    "#                                     attention_probs_dropout_prob=0.2)\n",
    "\n",
    "# # Load the pre-trained model with the specified configuration\n",
    "# base_model = AutoModelForSequenceClassification.from_pretrained('dmis-lab/biobert-base-cased-v1.2', config=config)"
   ]
  },
  {
   "cell_type": "code",
   "execution_count": 7,
   "metadata": {},
   "outputs": [],
   "source": [
    "# from transformers import AutoModelForSequenceClassification, AutoConfig\n",
    "\n",
    "# # Specify the dropout rate in the configuration\n",
    "# config = AutoConfig.from_pretrained('emilyalsentzer/Bio_Discharge_Summary_BERT', \n",
    "#                                     num_labels=4, \n",
    "#                                     hidden_dropout_prob=0.2, \n",
    "#                                     attention_probs_dropout_prob=0.2)\n",
    "\n",
    "# # Load the pre-trained model with the specified configuration\n",
    "# discharge_model = AutoModelForSequenceClassification.from_pretrained('emilyalsentzer/Bio_Discharge_Summary_BERT', config=config)"
   ]
  },
  {
   "cell_type": "code",
   "execution_count": 8,
   "metadata": {},
   "outputs": [],
   "source": [
    "from transformers import AutoTokenizer\n",
    "\n",
    "# Choose a tokenizer\n",
    "tokenizer = AutoTokenizer.from_pretrained('bvanaken/CORe-clinical-outcome-biobert-v1')"
   ]
  },
  {
   "cell_type": "code",
   "execution_count": 9,
   "metadata": {},
   "outputs": [],
   "source": [
    "# Apply the tokenizer to the training, validation, and test datasets\n",
    "train_encodings = tokenizer(train_dataset['text'].tolist(), truncation=True, padding=True, max_length = 512)\n",
    "val_encodings = tokenizer(val_dataset['text'].tolist(), truncation=True, padding=True,  max_length = 512)\n",
    "test_encodings = tokenizer(test_dataset['text'].tolist(), truncation=True, padding=True , max_length = 512)"
   ]
  },
  {
   "cell_type": "code",
   "execution_count": 10,
   "metadata": {},
   "outputs": [],
   "source": [
    "# Create a Dataset for PyTorch\n",
    "class LosDataset(torch.utils.data.Dataset):\n",
    "    def __init__(self, encodings, labels):\n",
    "        self.encodings = encodings\n",
    "        self.labels = labels\n",
    "\n",
    "    def __getitem__(self, idx):\n",
    "        item = {key: torch.tensor(val[idx]) for key, val in self.encodings.items()}\n",
    "        item['labels'] = torch.tensor(self.labels[idx])\n",
    "        return item\n",
    "\n",
    "    def __len__(self):\n",
    "        return len(self.labels)"
   ]
  },
  {
   "cell_type": "code",
   "execution_count": 11,
   "metadata": {},
   "outputs": [],
   "source": [
    "train_dataset = LosDataset(train_encodings, train_dataset['los_label'].tolist())\n",
    "val_dataset = LosDataset(val_encodings, val_dataset['los_label'].tolist())\n",
    "test_dataset = LosDataset(test_encodings, test_dataset['los_label'].tolist())"
   ]
  },
  {
   "cell_type": "code",
   "execution_count": 12,
   "metadata": {},
   "outputs": [],
   "source": [
    "from transformers import AdamW, get_linear_schedule_with_warmup\n",
    "from sklearn.metrics import precision_score, recall_score, f1_score, roc_auc_score, accuracy_score\n",
    "from tqdm import tqdm\n",
    "from torch import nn\n",
    "import numpy as np\n",
    "\n",
    "# Create the ensemble model\n",
    "ensemble_model = EnsembleModel(core_model)"
   ]
  },
  {
   "cell_type": "code",
   "execution_count": 13,
   "metadata": {},
   "outputs": [
    {
     "name": "stdout",
     "output_type": "stream",
     "text": [
      "Found models starting with 'CORE_baseline':\n",
      "CORE_baseline_epoch_5roc_0.7018948841692797\n",
      "Loaded Model\n"
     ]
    }
   ],
   "source": [
    "import os\n",
    "\n",
    "# list all files in the current directory\n",
    "files = os.listdir('.')\n",
    "\n",
    "# filter the ones that start with 'CORE_baseline'\n",
    "core_models = [f for f in files if f.startswith('CORE_baseline')]\n",
    "\n",
    "if core_models:\n",
    "    print(\"Found models starting with 'CORE_baseline':\")\n",
    "    for model in core_models:\n",
    "        print(model)\n",
    "        \n",
    "    # get the first (and supposedly only) model\n",
    "    model_path = core_models[0]\n",
    "\n",
    "    # load the model state\n",
    "    ensemble_model.load_state_dict(torch.load(model_path))\n",
    "    print(\"Loaded Model\")\n",
    "else:\n",
    "    print(\"No models found starting with 'CORE_baseline'.\")"
   ]
  },
  {
   "cell_type": "code",
   "execution_count": 14,
   "metadata": {},
   "outputs": [],
   "source": [
    "# ensemble_model"
   ]
  },
  {
   "cell_type": "code",
   "execution_count": 15,
   "metadata": {},
   "outputs": [],
   "source": [
    "# Push the model to device\n",
    "device = torch.device(\"cuda\" if torch.cuda.is_available() else \"cpu\")\n",
    "ensemble_model = ensemble_model.to(device)"
   ]
  },
  {
   "cell_type": "code",
   "execution_count": 16,
   "metadata": {},
   "outputs": [],
   "source": [
    "train_loader = DataLoader(train_dataset, batch_size=8, shuffle=True)\n",
    "val_loader = DataLoader(val_dataset, batch_size=8, shuffle=False)\n",
    "test_loader = DataLoader(test_dataset, batch_size=8, shuffle=False)"
   ]
  },
  {
   "cell_type": "code",
   "execution_count": 19,
   "metadata": {},
   "outputs": [],
   "source": [
    "epochs = 200\n",
    "best_roc_auc = 0.701894\n",
    "min_delta = 0.0001\n",
    "early_stopping_count = 0\n",
    "early_stopping_patience = 3\n",
    "gradient_accumulation_steps = 10\n",
    "best_model_path = \"best_model.pth\"\n",
    "\n",
    "# Set the optimizer\n",
    "optimizer = AdamW(ensemble_model.parameters(), lr=1e-5, weight_decay=0.01)\n",
    "\n",
    "# Set the scheduler\n",
    "scheduler = get_linear_schedule_with_warmup(\n",
    "    optimizer, \n",
    "    num_warmup_steps=50, \n",
    "    num_training_steps=len(train_loader) * epochs // gradient_accumulation_steps\n",
    ")\n"
   ]
  },
  {
   "cell_type": "code",
   "execution_count": 20,
   "metadata": {},
   "outputs": [
    {
     "name": "stderr",
     "output_type": "stream",
     "text": [
      "100%|███████████████████████████████████████| 3803/3803 [44:37<00:00,  1.42it/s]\n",
      "100%|█████████████████████████████████████████| 549/549 [02:15<00:00,  4.06it/s]\n"
     ]
    },
    {
     "name": "stdout",
     "output_type": "stream",
     "text": [
      "Epoch: 6/200, Training Loss: 1.0757714137101906, Validation Loss: 1.2538817294742675\n",
      "Accuracy: 0.4122067866089729, Recall: 0.4122067866089729, Precision: 0.4235205432138176, F1: 0.40808184723601654, Micro F1: 0.4122067866089729, Macro Roc Auc: 0.7036909414902004\n"
     ]
    },
    {
     "name": "stderr",
     "output_type": "stream",
     "text": [
      "100%|███████████████████████████████████████| 3803/3803 [45:03<00:00,  1.41it/s]\n",
      "100%|█████████████████████████████████████████| 549/549 [02:16<00:00,  4.01it/s]\n"
     ]
    },
    {
     "name": "stdout",
     "output_type": "stream",
     "text": [
      "Epoch: 7/200, Training Loss: 1.054902479369923, Validation Loss: 1.2641996200618848\n",
      "Accuracy: 0.40560236848098385, Recall: 0.40560236848098385, Precision: 0.41254848474406725, F1: 0.4001793782718574, Micro F1: 0.40560236848098385, Macro Roc Auc: 0.6996797164724936\n",
      "EarlyStopping counter: 1 out of 3\n"
     ]
    },
    {
     "name": "stderr",
     "output_type": "stream",
     "text": [
      "100%|███████████████████████████████████████| 3803/3803 [43:57<00:00,  1.44it/s]\n",
      "100%|█████████████████████████████████████████| 549/549 [02:07<00:00,  4.30it/s]\n"
     ]
    },
    {
     "name": "stdout",
     "output_type": "stream",
     "text": [
      "Epoch: 8/200, Training Loss: 1.0299105505049306, Validation Loss: 1.242426672051296\n",
      "Accuracy: 0.4263265770895013, Recall: 0.4263265770895013, Precision: 0.4213825258389358, F1: 0.41959610553449794, Micro F1: 0.4263265770895013, Macro Roc Auc: 0.705143748797089\n"
     ]
    },
    {
     "name": "stderr",
     "output_type": "stream",
     "text": [
      "100%|███████████████████████████████████████| 3803/3803 [44:34<00:00,  1.42it/s]\n",
      "100%|█████████████████████████████████████████| 549/549 [02:09<00:00,  4.25it/s]\n"
     ]
    },
    {
     "name": "stdout",
     "output_type": "stream",
     "text": [
      "Epoch: 9/200, Training Loss: 0.9979170977818537, Validation Loss: 1.2890238190826389\n",
      "Accuracy: 0.4281484855386017, Recall: 0.4281484855386017, Precision: 0.43348410162028506, F1: 0.4202264311293238, Micro F1: 0.4281484855386017, Macro Roc Auc: 0.6919186317346567\n",
      "EarlyStopping counter: 1 out of 3\n"
     ]
    },
    {
     "name": "stderr",
     "output_type": "stream",
     "text": [
      "100%|███████████████████████████████████████| 3803/3803 [44:37<00:00,  1.42it/s]\n",
      "100%|█████████████████████████████████████████| 549/549 [02:06<00:00,  4.33it/s]\n"
     ]
    },
    {
     "name": "stdout",
     "output_type": "stream",
     "text": [
      "Epoch: 10/200, Training Loss: 0.9687661329931314, Validation Loss: 1.3004925929566333\n",
      "Accuracy: 0.42291049874743797, Recall: 0.42291049874743797, Precision: 0.4154380337359672, F1: 0.4118359539258379, Micro F1: 0.42291049874743797, Macro Roc Auc: 0.6961025927811334\n",
      "EarlyStopping counter: 2 out of 3\n"
     ]
    },
    {
     "name": "stderr",
     "output_type": "stream",
     "text": [
      "100%|███████████████████████████████████████| 3803/3803 [45:36<00:00,  1.39it/s]\n",
      "100%|█████████████████████████████████████████| 549/549 [02:15<00:00,  4.05it/s]"
     ]
    },
    {
     "name": "stdout",
     "output_type": "stream",
     "text": [
      "Epoch: 11/200, Training Loss: 0.9390757213117197, Validation Loss: 1.344667239701596\n",
      "Accuracy: 0.4206331131860624, Recall: 0.4206331131860624, Precision: 0.4221468314487847, F1: 0.4102135551699174, Micro F1: 0.4206331131860624, Macro Roc Auc: 0.6837867334208196\n",
      "EarlyStopping counter: 3 out of 3\n",
      "Early stopping\n"
     ]
    },
    {
     "name": "stderr",
     "output_type": "stream",
     "text": [
      "\n"
     ]
    }
   ],
   "source": [
    "from torch.nn import functional as F\n",
    "# Training\n",
    "for epoch in range(5, epochs):\n",
    "    ensemble_model.train()\n",
    "    train_loss = 0\n",
    "    for step, batch in enumerate(tqdm(train_loader)):\n",
    "        optimizer.zero_grad() if step % gradient_accumulation_steps == 0 else None\n",
    "        input_ids = batch['input_ids'].to(device)\n",
    "        attention_mask = batch['attention_mask'].to(device)\n",
    "        labels = batch['labels'].to(device)\n",
    "        outputs = ensemble_model(input_ids, attention_mask)\n",
    "        loss = nn.CrossEntropyLoss()(outputs, labels)\n",
    "        (loss / gradient_accumulation_steps).backward()\n",
    "        train_loss += loss.item()\n",
    "        if (step + 1) % gradient_accumulation_steps == 0 or (step + 1) == len(train_loader):\n",
    "            optimizer.step()\n",
    "            scheduler.step()\n",
    "\n",
    "    ensemble_model.eval()\n",
    "    val_loss = 0\n",
    "    val_preds = []\n",
    "    val_labels = []\n",
    "    with torch.no_grad():\n",
    "        for batch in tqdm(val_loader):\n",
    "            input_ids = batch['input_ids'].to(device)\n",
    "            attention_mask = batch['attention_mask'].to(device)\n",
    "            labels = batch['labels'].to(device)\n",
    "            outputs = ensemble_model(input_ids, attention_mask)\n",
    "            loss = nn.CrossEntropyLoss()(outputs, labels)\n",
    "            val_loss += loss.item()\n",
    "            val_preds.append(F.softmax(outputs, dim=1).cpu().numpy())\n",
    "            val_labels.append(labels.cpu().numpy())\n",
    "            \n",
    "\n",
    "    val_preds = np.concatenate(val_preds)\n",
    "    val_labels = np.concatenate(val_labels)\n",
    "    val_loss /= len(val_loader)\n",
    "    train_loss /= len(train_loader)\n",
    "    print(f'Epoch: {epoch+1}/{epochs}, Training Loss: {train_loss}, Validation Loss: {val_loss}')\n",
    "\n",
    "    # Calculate metrics\n",
    "    val_preds_class = np.argmax(val_preds, axis=1)\n",
    "    accuracy = accuracy_score(val_labels, val_preds_class)\n",
    "    recall = recall_score(val_labels, val_preds_class, average='weighted')\n",
    "    precision = precision_score(val_labels, val_preds_class, average='weighted')\n",
    "    f1 = f1_score(val_labels, val_preds_class, average='weighted')\n",
    "    micro_f1 = f1_score(val_labels, val_preds_class, average='micro')\n",
    "    macro_roc_auc = roc_auc_score(val_labels, val_preds, multi_class='ovo', average='macro')\n",
    "\n",
    "    print(f'Accuracy: {accuracy}, Recall: {recall}, Precision: {precision}, F1: {f1}, Micro F1: {micro_f1}, Macro Roc Auc: {macro_roc_auc}')\n",
    "        \n",
    "        \n",
    "    # Implement early stopping\n",
    "    if epoch > 0 and macro_roc_auc - best_roc_auc < min_delta:\n",
    "        early_stopping_count += 1\n",
    "        print(f'EarlyStopping counter: {early_stopping_count} out of {early_stopping_patience}')\n",
    "        if early_stopping_count >= early_stopping_patience:\n",
    "            print('Early stopping')\n",
    "            break\n",
    "    else:\n",
    "        best_roc_auc = macro_roc_auc\n",
    "        early_stopping_count = 0\n",
    "        torch.save(ensemble_model.state_dict(), f\"CORE_baseline_epoch_{epoch}roc_{best_roc_auc}.pth\")"
   ]
  },
  {
   "cell_type": "code",
   "execution_count": 21,
   "metadata": {},
   "outputs": [
    {
     "name": "stdout",
     "output_type": "stream",
     "text": [
      "Found models starting with 'CORE_baseline':\n",
      "CORE_baseline_epoch_7roc_0.705143748797089.pth\n",
      "Loaded Model\n"
     ]
    }
   ],
   "source": [
    "import os\n",
    "\n",
    "# list all files in the current directory\n",
    "files = os.listdir('.')\n",
    "\n",
    "# filter the ones that start with 'CORE_baseline'\n",
    "core_models = [f for f in files if f.startswith('CORE_baseline')]\n",
    "\n",
    "if core_models:\n",
    "    print(\"Found models starting with 'CORE_baseline':\")\n",
    "    for model in core_models:\n",
    "        print(model)\n",
    "        \n",
    "    # get the first (and supposedly only) model\n",
    "    model_path = core_models[0]\n",
    "\n",
    "    # load the model state\n",
    "    ensemble_model.load_state_dict(torch.load(model_path))\n",
    "    print(\"Loaded Model\")\n",
    "else:\n",
    "    print(\"No models found starting with 'CORE_baseline'.\")"
   ]
  },
  {
   "cell_type": "code",
   "execution_count": 26,
   "metadata": {},
   "outputs": [
    {
     "name": "stderr",
     "output_type": "stream",
     "text": [
      "100%|███████████████████████████████████████| 1100/1100 [04:27<00:00,  4.11it/s]\n"
     ]
    }
   ],
   "source": [
    "# Put the model in evaluation mode\n",
    "ensemble_model.eval()\n",
    "\n",
    "# Initialize lists to store predictions and true labels\n",
    "test_preds = []\n",
    "test_labels = []\n",
    "\n",
    "# Iterate over test data\n",
    "with torch.no_grad():\n",
    "    for batch in tqdm(test_loader):\n",
    "        input_ids = batch['input_ids'].to(device)\n",
    "        attention_mask = batch['attention_mask'].to(device)\n",
    "        labels = batch['labels'].to(device)\n",
    "        outputs = ensemble_model(input_ids, attention_mask)\n",
    "        test_preds.append(F.softmax(outputs, dim=1).cpu().numpy())\n",
    "        test_labels.append(labels.cpu().numpy())\n",
    "\n"
   ]
  },
  {
   "cell_type": "code",
   "execution_count": 27,
   "metadata": {},
   "outputs": [
    {
     "name": "stdout",
     "output_type": "stream",
     "text": [
      "Accuracy: 0.4436739797658293, Recall: 0.4436739797658293, Precision: 0.44157302417543887, F1: 0.4379979553914235, Micro F1: 0.4436739797658293, Macro Roc Auc: 0.7207595541292613\n"
     ]
    }
   ],
   "source": [
    "test_preds = np.concatenate(test_preds)\n",
    "test_labels = np.concatenate(test_labels)\n",
    "\n",
    "# Calculate metrics\n",
    "test_preds_class = np.argmax(test_preds, axis=1)\n",
    "accuracy = accuracy_score(test_labels, test_preds_class)\n",
    "recall = recall_score(test_labels, test_preds_class, average='weighted')\n",
    "precision = precision_score(test_labels, test_preds_class, average='weighted')\n",
    "f1 = f1_score(test_labels, test_preds_class, average='weighted')\n",
    "micro_f1 = f1_score(test_labels, test_preds_class, average='micro')\n",
    "macro_roc_auc = roc_auc_score(test_labels, test_preds, multi_class='ovo', average='macro')\n",
    "\n",
    "print(f'Accuracy: {accuracy}, Recall: {recall}, Precision: {precision}, F1: {f1}, Micro F1: {micro_f1}, Macro Roc Auc: {macro_roc_auc}')"
   ]
  },
  {
   "cell_type": "code",
   "execution_count": null,
   "metadata": {},
   "outputs": [],
   "source": []
  }
 ],
 "metadata": {
  "kernelspec": {
   "display_name": "Environment (conda_new_env)",
   "language": "python",
   "name": "conda_new_env"
  },
  "language_info": {
   "codemirror_mode": {
    "name": "ipython",
    "version": 3
   },
   "file_extension": ".py",
   "mimetype": "text/x-python",
   "name": "python",
   "nbconvert_exporter": "python",
   "pygments_lexer": "ipython3",
   "version": "3.9.16"
  }
 },
 "nbformat": 4,
 "nbformat_minor": 4
}
