{
 "cells": [
  {
   "cell_type": "code",
   "execution_count": 1,
   "metadata": {},
   "outputs": [
    {
     "name": "stderr",
     "output_type": "stream",
     "text": [
      "/home/ec2-user/anaconda3/envs/new_env/lib/python3.9/site-packages/tqdm/auto.py:21: TqdmWarning: IProgress not found. Please update jupyter and ipywidgets. See https://ipywidgets.readthedocs.io/en/stable/user_install.html\n",
      "  from .autonotebook import tqdm as notebook_tqdm\n"
     ]
    }
   ],
   "source": [
    "import torch\n",
    "from torch.utils.data import DataLoader\n",
    "from transformers import BertForSequenceClassification, BertTokenizer, AdamW, get_linear_schedule_with_warmup\n",
    "from sklearn.metrics import accuracy_score, recall_score, precision_score, f1_score, roc_auc_score\n",
    "import pandas as pd\n",
    "import numpy as np\n",
    "from transformers import AutoTokenizer, AutoModelForSequenceClassification, Trainer, TrainingArguments"
   ]
  },
  {
   "cell_type": "code",
   "execution_count": 2,
   "metadata": {},
   "outputs": [],
   "source": [
    "# Load Train, Validation, Test Dataset\n",
    "train_dataset = pd.read_csv('saveDir/LOS_WEEKS_adm_train.csv')\n",
    "val_dataset = pd.read_csv('saveDir/LOS_WEEKS_adm_val.csv')\n",
    "test_dataset = pd.read_csv('saveDir/LOS_WEEKS_adm_test.csv')"
   ]
  },
  {
   "cell_type": "code",
   "execution_count": 3,
   "metadata": {},
   "outputs": [],
   "source": [
    "from torch.utils.data import DataLoader\n",
    "from torch import nn\n",
    "\n",
    "class EnsembleModel(nn.Module):\n",
    "    def __init__(self, model1):\n",
    "        super(EnsembleModel, self).__init__()\n",
    "        self.model1 = model1\n",
    "\n",
    "    def forward(self, input_ids, attention_mask):\n",
    "        output1 = self.model1(input_ids, attention_mask=attention_mask)[0]\n",
    "        avg_output = output1\n",
    "        return avg_output"
   ]
  },
  {
   "cell_type": "code",
   "execution_count": 4,
   "metadata": {},
   "outputs": [],
   "source": [
    "# from transformers import AutoModelForSequenceClassification, AutoConfig\n",
    "\n",
    "# # Specify the dropout rate in the configuration\n",
    "# config = AutoConfig.from_pretrained('bvanaken/CORe-clinical-outcome-biobert-v1', \n",
    "#                                     num_labels=4, \n",
    "#                                     hidden_dropout_prob=0.2, \n",
    "#                                     attention_probs_dropout_prob=0.2)\n",
    "\n",
    "# # Load the pre-trained model with the specified configuration\n",
    "# core_model = AutoModelForSequenceClassification.from_pretrained('bvanaken/CORe-clinical-outcome-biobert-v1', config=config)\n"
   ]
  },
  {
   "cell_type": "code",
   "execution_count": 5,
   "metadata": {},
   "outputs": [],
   "source": [
    "# from transformers import AutoModelForSequenceClassification, AutoConfig\n",
    "\n",
    "# # Specify the dropout rate in the configuration\n",
    "# config = AutoConfig.from_pretrained('emilyalsentzer/Bio_ClinicalBERT', \n",
    "#                                     num_labels=4, \n",
    "#                                     hidden_dropout_prob=0.2, \n",
    "#                                     attention_probs_dropout_prob=0.2)\n",
    "\n",
    "# # Load the pre-trained model with the specified configuration\n",
    "# clinical_model = AutoModelForSequenceClassification.from_pretrained('emilyalsentzer/Bio_ClinicalBERT', config=config)"
   ]
  },
  {
   "cell_type": "code",
   "execution_count": 6,
   "metadata": {},
   "outputs": [],
   "source": [
    "# from transformers import AutoModelForSequenceClassification, AutoConfig\n",
    "\n",
    "# # Specify the dropout rate in the configuration\n",
    "# config = AutoConfig.from_pretrained('dmis-lab/biobert-base-cased-v1.2', \n",
    "#                                     num_labels=4, \n",
    "#                                     hidden_dropout_prob=0.2, \n",
    "#                                     attention_probs_dropout_prob=0.2)\n",
    "\n",
    "# # Load the pre-trained model with the specified configuration\n",
    "# base_model = AutoModelForSequenceClassification.from_pretrained('dmis-lab/biobert-base-cased-v1.2', config=config)"
   ]
  },
  {
   "cell_type": "code",
   "execution_count": 7,
   "metadata": {},
   "outputs": [
    {
     "name": "stderr",
     "output_type": "stream",
     "text": [
      "Some weights of the model checkpoint at emilyalsentzer/Bio_Discharge_Summary_BERT were not used when initializing BertForSequenceClassification: ['cls.predictions.transform.LayerNorm.weight', 'cls.predictions.transform.dense.bias', 'cls.predictions.bias', 'cls.seq_relationship.bias', 'cls.seq_relationship.weight', 'cls.predictions.transform.LayerNorm.bias', 'cls.predictions.decoder.weight', 'cls.predictions.transform.dense.weight']\n",
      "- This IS expected if you are initializing BertForSequenceClassification from the checkpoint of a model trained on another task or with another architecture (e.g. initializing a BertForSequenceClassification model from a BertForPreTraining model).\n",
      "- This IS NOT expected if you are initializing BertForSequenceClassification from the checkpoint of a model that you expect to be exactly identical (initializing a BertForSequenceClassification model from a BertForSequenceClassification model).\n",
      "Some weights of BertForSequenceClassification were not initialized from the model checkpoint at emilyalsentzer/Bio_Discharge_Summary_BERT and are newly initialized: ['classifier.weight', 'classifier.bias']\n",
      "You should probably TRAIN this model on a down-stream task to be able to use it for predictions and inference.\n"
     ]
    }
   ],
   "source": [
    "from transformers import AutoModelForSequenceClassification, AutoConfig\n",
    "\n",
    "# Specify the dropout rate in the configuration\n",
    "config = AutoConfig.from_pretrained('emilyalsentzer/Bio_Discharge_Summary_BERT', \n",
    "                                    num_labels=4, \n",
    "                                    hidden_dropout_prob=0.2, \n",
    "                                    attention_probs_dropout_prob=0.2)\n",
    "\n",
    "# Load the pre-trained model with the specified configuration\n",
    "discharge_model = AutoModelForSequenceClassification.from_pretrained('emilyalsentzer/Bio_Discharge_Summary_BERT', config=config)"
   ]
  },
  {
   "cell_type": "code",
   "execution_count": 8,
   "metadata": {},
   "outputs": [],
   "source": [
    "from transformers import AutoTokenizer\n",
    "\n",
    "# Choose a tokenizer\n",
    "tokenizer = AutoTokenizer.from_pretrained('emilyalsentzer/Bio_Discharge_Summary_BERT')"
   ]
  },
  {
   "cell_type": "code",
   "execution_count": 9,
   "metadata": {},
   "outputs": [],
   "source": [
    "# Apply the tokenizer to the training, validation, and test datasets\n",
    "train_encodings = tokenizer(train_dataset['text'].tolist(), truncation=True, padding=True, max_length = 512)\n",
    "val_encodings = tokenizer(val_dataset['text'].tolist(), truncation=True, padding=True,  max_length = 512)\n",
    "test_encodings = tokenizer(test_dataset['text'].tolist(), truncation=True, padding=True , max_length = 512)"
   ]
  },
  {
   "cell_type": "code",
   "execution_count": 10,
   "metadata": {},
   "outputs": [],
   "source": [
    "# Create a Dataset for PyTorch\n",
    "class LosDataset(torch.utils.data.Dataset):\n",
    "    def __init__(self, encodings, labels):\n",
    "        self.encodings = encodings\n",
    "        self.labels = labels\n",
    "\n",
    "    def __getitem__(self, idx):\n",
    "        item = {key: torch.tensor(val[idx]) for key, val in self.encodings.items()}\n",
    "        item['labels'] = torch.tensor(self.labels[idx])\n",
    "        return item\n",
    "\n",
    "    def __len__(self):\n",
    "        return len(self.labels)"
   ]
  },
  {
   "cell_type": "code",
   "execution_count": 11,
   "metadata": {},
   "outputs": [],
   "source": [
    "train_dataset = LosDataset(train_encodings, train_dataset['los_label'].tolist())\n",
    "val_dataset = LosDataset(val_encodings, val_dataset['los_label'].tolist())\n",
    "test_dataset = LosDataset(test_encodings, test_dataset['los_label'].tolist())"
   ]
  },
  {
   "cell_type": "code",
   "execution_count": 12,
   "metadata": {},
   "outputs": [],
   "source": [
    "from transformers import AdamW, get_linear_schedule_with_warmup\n",
    "from sklearn.metrics import precision_score, recall_score, f1_score, roc_auc_score, accuracy_score\n",
    "from tqdm import tqdm\n",
    "from torch import nn\n",
    "import numpy as np\n",
    "\n",
    "# Create the ensemble model\n",
    "ensemble_model = EnsembleModel(discharge_model)"
   ]
  },
  {
   "cell_type": "code",
   "execution_count": 13,
   "metadata": {},
   "outputs": [
    {
     "name": "stdout",
     "output_type": "stream",
     "text": [
      "No models found starting with 'discharge_baseline'.\n"
     ]
    }
   ],
   "source": [
    "import os\n",
    "\n",
    "# list all files in the current directory\n",
    "files = os.listdir('.')\n",
    "\n",
    "# filter the ones that start with 'CORE_baseline'\n",
    "core_models = [f for f in files if f.startswith('discharge_baseline')]\n",
    "\n",
    "if core_models:\n",
    "    print(\"Found models starting with 'discharge_baseline':\")\n",
    "    for model in core_models:\n",
    "        print(model)\n",
    "        \n",
    "    # get the first (and supposedly only) model\n",
    "    model_path = core_models[0]\n",
    "\n",
    "    # load the model state\n",
    "    ensemble_model.load_state_dict(torch.load(model_path))\n",
    "    print(\"Loaded Model\")\n",
    "else:\n",
    "    print(\"No models found starting with 'discharge_baseline'.\")"
   ]
  },
  {
   "cell_type": "code",
   "execution_count": 14,
   "metadata": {},
   "outputs": [],
   "source": [
    "# ensemble_model"
   ]
  },
  {
   "cell_type": "code",
   "execution_count": 15,
   "metadata": {},
   "outputs": [],
   "source": [
    "# Push the model to device\n",
    "device = torch.device(\"cuda\" if torch.cuda.is_available() else \"cpu\")\n",
    "ensemble_model = ensemble_model.to(device)"
   ]
  },
  {
   "cell_type": "code",
   "execution_count": 16,
   "metadata": {},
   "outputs": [],
   "source": [
    "train_loader = DataLoader(train_dataset, batch_size=18, shuffle=True)\n",
    "val_loader = DataLoader(val_dataset, batch_size=18, shuffle=False)\n",
    "test_loader = DataLoader(test_dataset, batch_size=18, shuffle=False)"
   ]
  },
  {
   "cell_type": "code",
   "execution_count": 17,
   "metadata": {},
   "outputs": [
    {
     "name": "stderr",
     "output_type": "stream",
     "text": [
      "/home/ec2-user/anaconda3/envs/new_env/lib/python3.9/site-packages/transformers/optimization.py:391: FutureWarning: This implementation of AdamW is deprecated and will be removed in a future version. Use the PyTorch implementation torch.optim.AdamW instead, or set `no_deprecation_warning=True` to disable this warning\n",
      "  warnings.warn(\n"
     ]
    }
   ],
   "source": [
    "epochs = 200\n",
    "best_roc_auc = 0.0\n",
    "min_delta = 0.0001\n",
    "early_stopping_count = 0\n",
    "early_stopping_patience = 3\n",
    "gradient_accumulation_steps = 10\n",
    "best_model_path = \"best_model.pth\"\n",
    "\n",
    "# Set the optimizer\n",
    "optimizer = AdamW(ensemble_model.parameters(), lr=1e-5, weight_decay=0.01)\n",
    "\n",
    "# Set the scheduler\n",
    "scheduler = get_linear_schedule_with_warmup(\n",
    "    optimizer, \n",
    "    num_warmup_steps=50, \n",
    "    num_training_steps=len(train_loader) * epochs // gradient_accumulation_steps\n",
    ")\n"
   ]
  },
  {
   "cell_type": "code",
   "execution_count": 18,
   "metadata": {},
   "outputs": [
    {
     "name": "stderr",
     "output_type": "stream",
     "text": [
      "100%|███████████████████████████████████████| 1691/1691 [43:58<00:00,  1.56s/it]\n",
      "100%|█████████████████████████████████████████| 244/244 [02:13<00:00,  1.82it/s]\n",
      "/home/ec2-user/anaconda3/envs/new_env/lib/python3.9/site-packages/sklearn/metrics/_classification.py:1344: UndefinedMetricWarning: Precision is ill-defined and being set to 0.0 in labels with no predicted samples. Use `zero_division` parameter to control this behavior.\n",
      "  _warn_prf(average, modifier, msg_start, len(result))\n"
     ]
    },
    {
     "name": "stdout",
     "output_type": "stream",
     "text": [
      "Epoch: 1/200, Training Loss: 1.320719965388266, Validation Loss: 1.2723049477475588\n",
      "Accuracy: 0.38487815987246643, Recall: 0.38487815987246643, Precision: 0.3359914302335378, F1: 0.3191807075685601, Micro F1: 0.3848781598724665, Macro Roc Auc: 0.623822668485927\n"
     ]
    },
    {
     "name": "stderr",
     "output_type": "stream",
     "text": [
      "100%|███████████████████████████████████████| 1691/1691 [44:15<00:00,  1.57s/it]\n",
      "100%|█████████████████████████████████████████| 244/244 [02:15<00:00,  1.79it/s]\n"
     ]
    },
    {
     "name": "stdout",
     "output_type": "stream",
     "text": [
      "Epoch: 2/200, Training Loss: 1.2550818896166747, Validation Loss: 1.231610602042714\n",
      "Accuracy: 0.40241402869505805, Recall: 0.40241402869505805, Precision: 0.43889726044413513, F1: 0.36243261858565373, Micro F1: 0.402414028695058, Macro Roc Auc: 0.6704063720221575\n"
     ]
    },
    {
     "name": "stderr",
     "output_type": "stream",
     "text": [
      "100%|███████████████████████████████████████| 1691/1691 [44:02<00:00,  1.56s/it]\n",
      "100%|█████████████████████████████████████████| 244/244 [02:13<00:00,  1.82it/s]\n"
     ]
    },
    {
     "name": "stdout",
     "output_type": "stream",
     "text": [
      "Epoch: 3/200, Training Loss: 1.2093130504147391, Validation Loss: 1.2123367065777544\n",
      "Accuracy: 0.40355272147574583, Recall: 0.40355272147574583, Precision: 0.4559635205584352, F1: 0.37551790897011167, Micro F1: 0.40355272147574583, Macro Roc Auc: 0.6852681037549052\n"
     ]
    },
    {
     "name": "stderr",
     "output_type": "stream",
     "text": [
      "100%|███████████████████████████████████████| 1691/1691 [44:26<00:00,  1.58s/it]\n",
      "100%|█████████████████████████████████████████| 244/244 [02:15<00:00,  1.80it/s]\n"
     ]
    },
    {
     "name": "stdout",
     "output_type": "stream",
     "text": [
      "Epoch: 4/200, Training Loss: 1.1846844655814641, Validation Loss: 1.1988281754196668\n",
      "Accuracy: 0.4112958323844227, Recall: 0.4112958323844227, Precision: 0.4231849510872997, F1: 0.38261817292694944, Micro F1: 0.41129583238442274, Macro Roc Auc: 0.6989624143040927\n"
     ]
    },
    {
     "name": "stderr",
     "output_type": "stream",
     "text": [
      "100%|███████████████████████████████████████| 1691/1691 [43:51<00:00,  1.56s/it]\n",
      "100%|█████████████████████████████████████████| 244/244 [02:16<00:00,  1.79it/s]\n"
     ]
    },
    {
     "name": "stdout",
     "output_type": "stream",
     "text": [
      "Epoch: 5/200, Training Loss: 1.1568617118243845, Validation Loss: 1.18385148439251\n",
      "Accuracy: 0.42883170120701436, Recall: 0.42883170120701436, Precision: 0.4509234856358565, F1: 0.40629387468032124, Micro F1: 0.42883170120701436, Macro Roc Auc: 0.7041762829982265\n"
     ]
    },
    {
     "name": "stderr",
     "output_type": "stream",
     "text": [
      "100%|███████████████████████████████████████| 1691/1691 [43:59<00:00,  1.56s/it]\n",
      "100%|█████████████████████████████████████████| 244/244 [02:14<00:00,  1.82it/s]\n"
     ]
    },
    {
     "name": "stdout",
     "output_type": "stream",
     "text": [
      "Epoch: 6/200, Training Loss: 1.1353482232863632, Validation Loss: 1.1746553055575637\n",
      "Accuracy: 0.4320200409929401, Recall: 0.4320200409929401, Precision: 0.43882227000229607, F1: 0.41869274774764104, Micro F1: 0.4320200409929401, Macro Roc Auc: 0.7103675895885143\n"
     ]
    },
    {
     "name": "stderr",
     "output_type": "stream",
     "text": [
      "100%|███████████████████████████████████████| 1691/1691 [44:14<00:00,  1.57s/it]\n",
      "100%|█████████████████████████████████████████| 244/244 [02:06<00:00,  1.92it/s]\n"
     ]
    },
    {
     "name": "stdout",
     "output_type": "stream",
     "text": [
      "Epoch: 7/200, Training Loss: 1.115610316721805, Validation Loss: 1.1719062868200365\n",
      "Accuracy: 0.4413573217945798, Recall: 0.4413573217945798, Precision: 0.4478722312010611, F1: 0.4254572687491905, Micro F1: 0.4413573217945798, Macro Roc Auc: 0.715187301955459\n"
     ]
    },
    {
     "name": "stderr",
     "output_type": "stream",
     "text": [
      "100%|███████████████████████████████████████| 1691/1691 [44:40<00:00,  1.59s/it]\n",
      "100%|█████████████████████████████████████████| 244/244 [02:05<00:00,  1.94it/s]\n"
     ]
    },
    {
     "name": "stdout",
     "output_type": "stream",
     "text": [
      "Epoch: 8/200, Training Loss: 1.0951672965503176, Validation Loss: 1.1728106781107481\n",
      "Accuracy: 0.4368025506718287, Recall: 0.4368025506718287, Precision: 0.44363993571060495, F1: 0.4121348444061751, Micro F1: 0.4368025506718287, Macro Roc Auc: 0.7136351286100125\n",
      "EarlyStopping counter: 1 out of 3\n"
     ]
    },
    {
     "name": "stderr",
     "output_type": "stream",
     "text": [
      "100%|███████████████████████████████████████| 1691/1691 [44:18<00:00,  1.57s/it]\n",
      "100%|█████████████████████████████████████████| 244/244 [02:05<00:00,  1.94it/s]\n"
     ]
    },
    {
     "name": "stdout",
     "output_type": "stream",
     "text": [
      "Epoch: 9/200, Training Loss: 1.0777527853132776, Validation Loss: 1.173639374678252\n",
      "Accuracy: 0.4461398314734685, Recall: 0.4461398314734685, Precision: 0.44885659055089844, F1: 0.4283224105820774, Micro F1: 0.4461398314734685, Macro Roc Auc: 0.7177746022358367\n"
     ]
    },
    {
     "name": "stderr",
     "output_type": "stream",
     "text": [
      "100%|███████████████████████████████████████| 1691/1691 [43:51<00:00,  1.56s/it]\n",
      "100%|█████████████████████████████████████████| 244/244 [02:12<00:00,  1.84it/s]\n"
     ]
    },
    {
     "name": "stdout",
     "output_type": "stream",
     "text": [
      "Epoch: 10/200, Training Loss: 1.0504755594193196, Validation Loss: 1.1842519572523773\n",
      "Accuracy: 0.44705078569801865, Recall: 0.44705078569801865, Precision: 0.45824735399049843, F1: 0.43338534162234854, Micro F1: 0.44705078569801865, Macro Roc Auc: 0.7149883542037131\n",
      "EarlyStopping counter: 1 out of 3\n"
     ]
    },
    {
     "name": "stderr",
     "output_type": "stream",
     "text": [
      "100%|███████████████████████████████████████| 1691/1691 [44:27<00:00,  1.58s/it]\n",
      "100%|█████████████████████████████████████████| 244/244 [02:15<00:00,  1.80it/s]\n"
     ]
    },
    {
     "name": "stdout",
     "output_type": "stream",
     "text": [
      "Epoch: 11/200, Training Loss: 1.028409925774665, Validation Loss: 1.200651215236695\n",
      "Accuracy: 0.4361193350034161, Recall: 0.4361193350034161, Precision: 0.4388394552741929, F1: 0.4121016176315276, Micro F1: 0.4361193350034161, Macro Roc Auc: 0.7110278258084418\n",
      "EarlyStopping counter: 2 out of 3\n"
     ]
    },
    {
     "name": "stderr",
     "output_type": "stream",
     "text": [
      "100%|███████████████████████████████████████| 1691/1691 [43:52<00:00,  1.56s/it]\n",
      "100%|█████████████████████████████████████████| 244/244 [02:15<00:00,  1.80it/s]"
     ]
    },
    {
     "name": "stdout",
     "output_type": "stream",
     "text": [
      "Epoch: 12/200, Training Loss: 1.008047417238011, Validation Loss: 1.2144199013710022\n",
      "Accuracy: 0.43634707355955366, Recall: 0.43634707355955366, Precision: 0.4466838269708867, F1: 0.4116116947972744, Micro F1: 0.43634707355955366, Macro Roc Auc: 0.7070838160811076\n",
      "EarlyStopping counter: 3 out of 3\n",
      "Early stopping\n"
     ]
    },
    {
     "name": "stderr",
     "output_type": "stream",
     "text": [
      "\n"
     ]
    }
   ],
   "source": [
    "from torch.nn import functional as F\n",
    "# Training\n",
    "for epoch in range(epochs):\n",
    "    ensemble_model.train()\n",
    "    train_loss = 0\n",
    "    for step, batch in enumerate(tqdm(train_loader)):\n",
    "        optimizer.zero_grad() if step % gradient_accumulation_steps == 0 else None\n",
    "        input_ids = batch['input_ids'].to(device)\n",
    "        attention_mask = batch['attention_mask'].to(device)\n",
    "        labels = batch['labels'].to(device)\n",
    "        outputs = ensemble_model(input_ids, attention_mask)\n",
    "        loss = nn.CrossEntropyLoss()(outputs, labels)\n",
    "        (loss / gradient_accumulation_steps).backward()\n",
    "        train_loss += loss.item()\n",
    "        if (step + 1) % gradient_accumulation_steps == 0 or (step + 1) == len(train_loader):\n",
    "            optimizer.step()\n",
    "            scheduler.step()\n",
    "\n",
    "    ensemble_model.eval()\n",
    "    val_loss = 0\n",
    "    val_preds = []\n",
    "    val_labels = []\n",
    "    with torch.no_grad():\n",
    "        for batch in tqdm(val_loader):\n",
    "            input_ids = batch['input_ids'].to(device)\n",
    "            attention_mask = batch['attention_mask'].to(device)\n",
    "            labels = batch['labels'].to(device)\n",
    "            outputs = ensemble_model(input_ids, attention_mask)\n",
    "            loss = nn.CrossEntropyLoss()(outputs, labels)\n",
    "            val_loss += loss.item()\n",
    "            val_preds.append(F.softmax(outputs, dim=1).cpu().numpy())\n",
    "            val_labels.append(labels.cpu().numpy())\n",
    "            \n",
    "\n",
    "    val_preds = np.concatenate(val_preds)\n",
    "    val_labels = np.concatenate(val_labels)\n",
    "    val_loss /= len(val_loader)\n",
    "    train_loss /= len(train_loader)\n",
    "    print(f'Epoch: {epoch+1}/{epochs}, Training Loss: {train_loss}, Validation Loss: {val_loss}')\n",
    "\n",
    "    # Calculate metrics\n",
    "    val_preds_class = np.argmax(val_preds, axis=1)\n",
    "    accuracy = accuracy_score(val_labels, val_preds_class)\n",
    "    recall = recall_score(val_labels, val_preds_class, average='weighted')\n",
    "    precision = precision_score(val_labels, val_preds_class, average='weighted')\n",
    "    f1 = f1_score(val_labels, val_preds_class, average='weighted')\n",
    "    micro_f1 = f1_score(val_labels, val_preds_class, average='micro')\n",
    "    macro_roc_auc = roc_auc_score(val_labels, val_preds, multi_class='ovo', average='macro')\n",
    "\n",
    "    print(f'Accuracy: {accuracy}, Recall: {recall}, Precision: {precision}, F1: {f1}, Micro F1: {micro_f1}, Macro Roc Auc: {macro_roc_auc}')\n",
    "        \n",
    "        \n",
    "    # Implement early stopping\n",
    "    if epoch > 0 and macro_roc_auc - best_roc_auc < min_delta:\n",
    "        early_stopping_count += 1\n",
    "        print(f'EarlyStopping counter: {early_stopping_count} out of {early_stopping_patience}')\n",
    "        if early_stopping_count >= early_stopping_patience:\n",
    "            print('Early stopping')\n",
    "            break\n",
    "    else:\n",
    "        best_roc_auc = macro_roc_auc\n",
    "        early_stopping_count = 0\n",
    "        torch.save(ensemble_model.state_dict(), f\"discharge_baseline_epoch_{epoch}roc_{best_roc_auc}.pth\")"
   ]
  },
  {
   "cell_type": "code",
   "execution_count": 19,
   "metadata": {},
   "outputs": [
    {
     "name": "stdout",
     "output_type": "stream",
     "text": [
      "Found models starting with 'discharge_baseline':\n",
      "discharge_baseline_epoch_8roc_0.7177746022358367.pth\n",
      "Loaded Model\n"
     ]
    }
   ],
   "source": [
    "import os\n",
    "\n",
    "# list all files in the current directory\n",
    "files = os.listdir('.')\n",
    "\n",
    "# filter the ones that start with 'CORE_baseline'\n",
    "core_models = [f for f in files if f.startswith('discharge_baseline')]\n",
    "\n",
    "if core_models:\n",
    "    print(\"Found models starting with 'discharge_baseline':\")\n",
    "    for model in core_models:\n",
    "        print(model)\n",
    "        \n",
    "    # get the first (and supposedly only) model\n",
    "    model_path = core_models[0]\n",
    "\n",
    "    # load the model state\n",
    "    ensemble_model.load_state_dict(torch.load(model_path))\n",
    "    print(\"Loaded Model\")\n",
    "else:\n",
    "    print(\"No models found starting with 'discharge_baseline'.\")"
   ]
  },
  {
   "cell_type": "code",
   "execution_count": 20,
   "metadata": {},
   "outputs": [
    {
     "name": "stderr",
     "output_type": "stream",
     "text": [
      "100%|█████████████████████████████████████████| 489/489 [04:31<00:00,  1.80it/s]\n"
     ]
    }
   ],
   "source": [
    "# Put the model in evaluation mode\n",
    "ensemble_model.eval()\n",
    "\n",
    "# Initialize lists to store predictions and true labels\n",
    "test_preds = []\n",
    "test_labels = []\n",
    "\n",
    "# Iterate over test data\n",
    "with torch.no_grad():\n",
    "    for batch in tqdm(test_loader):\n",
    "        input_ids = batch['input_ids'].to(device)\n",
    "        attention_mask = batch['attention_mask'].to(device)\n",
    "        labels = batch['labels'].to(device)\n",
    "        outputs = ensemble_model(input_ids, attention_mask)\n",
    "        test_preds.append(F.softmax(outputs, dim=1).cpu().numpy())\n",
    "        test_labels.append(labels.cpu().numpy())\n",
    "\n"
   ]
  },
  {
   "cell_type": "code",
   "execution_count": 21,
   "metadata": {},
   "outputs": [
    {
     "name": "stdout",
     "output_type": "stream",
     "text": [
      "Accuracy: 0.4575423439809026, Recall: 0.4575423439809026, Precision: 0.4588264720354501, F1: 0.4380914971615826, Micro F1: 0.4575423439809026, Macro Roc Auc: 0.7223979561733406\n"
     ]
    }
   ],
   "source": [
    "test_preds = np.concatenate(test_preds)\n",
    "test_labels = np.concatenate(test_labels)\n",
    "\n",
    "# Calculate metrics\n",
    "test_preds_class = np.argmax(test_preds, axis=1)\n",
    "accuracy = accuracy_score(test_labels, test_preds_class)\n",
    "recall = recall_score(test_labels, test_preds_class, average='weighted')\n",
    "precision = precision_score(test_labels, test_preds_class, average='weighted')\n",
    "f1 = f1_score(test_labels, test_preds_class, average='weighted')\n",
    "micro_f1 = f1_score(test_labels, test_preds_class, average='micro')\n",
    "macro_roc_auc = roc_auc_score(test_labels, test_preds, multi_class='ovo', average='macro')\n",
    "\n",
    "print(f'Accuracy: {accuracy}, Recall: {recall}, Precision: {precision}, F1: {f1}, Micro F1: {micro_f1}, Macro Roc Auc: {macro_roc_auc}')"
   ]
  },
  {
   "cell_type": "code",
   "execution_count": null,
   "metadata": {},
   "outputs": [],
   "source": []
  }
 ],
 "metadata": {
  "kernelspec": {
   "display_name": "Environment (conda_new_env)",
   "language": "python",
   "name": "conda_new_env"
  },
  "language_info": {
   "codemirror_mode": {
    "name": "ipython",
    "version": 3
   },
   "file_extension": ".py",
   "mimetype": "text/x-python",
   "name": "python",
   "nbconvert_exporter": "python",
   "pygments_lexer": "ipython3",
   "version": "3.9.16"
  }
 },
 "nbformat": 4,
 "nbformat_minor": 4
}
